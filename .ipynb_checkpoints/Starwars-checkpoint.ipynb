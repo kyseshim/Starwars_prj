{
 "cells": [
  {
   "cell_type": "markdown",
   "metadata": {
    "id": "UgFqC1Wv3aJ3"
   },
   "source": [
    "# Data Analytics with Starwars\n",
    "\n",
    "*   Starwars API ([SWAP](https://swapi.dev/))\n",
    "*   Data from: https://dplyr.tidyverse.org/reference/starwars.html\n",
    "\n"
   ]
  },
  {
   "cell_type": "markdown",
   "metadata": {
    "id": "mWnT0Kkh3vZy"
   },
   "source": [
    "## 1. Glancing the data"
   ]
  },
  {
   "cell_type": "code",
   "execution_count": 2,
   "metadata": {
    "id": "Cv49O7mq3vIb"
   },
   "outputs": [],
   "source": [
    "import math\n",
    "import numpy as np\n",
    "import pandas as pd\n",
    "import seaborn as sns\n",
    "import matplotlib.pyplot as plt\n",
    "\n",
    "plt.style.use('seaborn')\n",
    "sns.set(font_scale=1)\n",
    "\n",
    "import warnings\n",
    "warnings.simplefilter(action='ignore', category=FutureWarning)"
   ]
  },
  {
   "cell_type": "code",
   "execution_count": 3,
   "metadata": {
    "id": "Lrcd7rvb30qT"
   },
   "outputs": [
    {
     "data": {
      "text/html": [
       "<div>\n",
       "<style scoped>\n",
       "    .dataframe tbody tr th:only-of-type {\n",
       "        vertical-align: middle;\n",
       "    }\n",
       "\n",
       "    .dataframe tbody tr th {\n",
       "        vertical-align: top;\n",
       "    }\n",
       "\n",
       "    .dataframe thead th {\n",
       "        text-align: right;\n",
       "    }\n",
       "</style>\n",
       "<table border=\"1\" class=\"dataframe\">\n",
       "  <thead>\n",
       "    <tr style=\"text-align: right;\">\n",
       "      <th></th>\n",
       "      <th>name</th>\n",
       "      <th>height</th>\n",
       "      <th>mass</th>\n",
       "      <th>hair_color</th>\n",
       "      <th>skin_color</th>\n",
       "      <th>eye_color</th>\n",
       "      <th>birth_year</th>\n",
       "      <th>sex</th>\n",
       "      <th>gender</th>\n",
       "      <th>homeworld</th>\n",
       "      <th>species</th>\n",
       "    </tr>\n",
       "  </thead>\n",
       "  <tbody>\n",
       "    <tr>\n",
       "      <th>0</th>\n",
       "      <td>Luke Skywalker</td>\n",
       "      <td>172.0</td>\n",
       "      <td>77.0</td>\n",
       "      <td>blond</td>\n",
       "      <td>fair</td>\n",
       "      <td>blue</td>\n",
       "      <td>19.0</td>\n",
       "      <td>male</td>\n",
       "      <td>masculine</td>\n",
       "      <td>Tatooine</td>\n",
       "      <td>Human</td>\n",
       "    </tr>\n",
       "    <tr>\n",
       "      <th>1</th>\n",
       "      <td>C-3PO</td>\n",
       "      <td>167.0</td>\n",
       "      <td>75.0</td>\n",
       "      <td>NaN</td>\n",
       "      <td>gold</td>\n",
       "      <td>yellow</td>\n",
       "      <td>112.0</td>\n",
       "      <td>none</td>\n",
       "      <td>masculine</td>\n",
       "      <td>Tatooine</td>\n",
       "      <td>Droid</td>\n",
       "    </tr>\n",
       "    <tr>\n",
       "      <th>2</th>\n",
       "      <td>R2-D2</td>\n",
       "      <td>96.0</td>\n",
       "      <td>32.0</td>\n",
       "      <td>NaN</td>\n",
       "      <td>white, blue</td>\n",
       "      <td>red</td>\n",
       "      <td>33.0</td>\n",
       "      <td>none</td>\n",
       "      <td>masculine</td>\n",
       "      <td>Naboo</td>\n",
       "      <td>Droid</td>\n",
       "    </tr>\n",
       "    <tr>\n",
       "      <th>3</th>\n",
       "      <td>Darth Vader</td>\n",
       "      <td>202.0</td>\n",
       "      <td>136.0</td>\n",
       "      <td>none</td>\n",
       "      <td>white</td>\n",
       "      <td>yellow</td>\n",
       "      <td>41.9</td>\n",
       "      <td>male</td>\n",
       "      <td>masculine</td>\n",
       "      <td>Tatooine</td>\n",
       "      <td>Human</td>\n",
       "    </tr>\n",
       "    <tr>\n",
       "      <th>4</th>\n",
       "      <td>Leia Organa</td>\n",
       "      <td>150.0</td>\n",
       "      <td>49.0</td>\n",
       "      <td>brown</td>\n",
       "      <td>light</td>\n",
       "      <td>brown</td>\n",
       "      <td>19.0</td>\n",
       "      <td>female</td>\n",
       "      <td>feminine</td>\n",
       "      <td>Alderaan</td>\n",
       "      <td>Human</td>\n",
       "    </tr>\n",
       "  </tbody>\n",
       "</table>\n",
       "</div>"
      ],
      "text/plain": [
       "             name  height   mass hair_color   skin_color eye_color  \\\n",
       "0  Luke Skywalker   172.0   77.0      blond         fair      blue   \n",
       "1           C-3PO   167.0   75.0        NaN         gold    yellow   \n",
       "2           R2-D2    96.0   32.0        NaN  white, blue       red   \n",
       "3     Darth Vader   202.0  136.0       none        white    yellow   \n",
       "4     Leia Organa   150.0   49.0      brown        light     brown   \n",
       "\n",
       "   birth_year     sex     gender homeworld species  \n",
       "0        19.0    male  masculine  Tatooine   Human  \n",
       "1       112.0    none  masculine  Tatooine   Droid  \n",
       "2        33.0    none  masculine     Naboo   Droid  \n",
       "3        41.9    male  masculine  Tatooine   Human  \n",
       "4        19.0  female   feminine  Alderaan   Human  "
      ]
     },
     "execution_count": 3,
     "metadata": {},
     "output_type": "execute_result"
    }
   ],
   "source": [
    "# Data Import\n",
    "sw = pd.read_csv('Starwars.csv')\n",
    "sw.head(5)"
   ]
  },
  {
   "cell_type": "markdown",
   "metadata": {
    "id": "mwFmIeyv4xll"
   },
   "source": [
    "### Column description\n",
    "* name: Character's name  \n",
    "* height\n",
    "* mass(weight)\n",
    "* hair_color \n",
    "* skin_color \n",
    "* eye_color \n",
    "* birth_year \n",
    "* sex(biological) \n",
    "* gender(social)  \n",
    "* homeworld\n",
    "* species"
   ]
  },
  {
   "cell_type": "markdown",
   "metadata": {
    "id": "7T0cFw7IiVMw"
   },
   "source": [
    "* Categorical variables: name, hair_color, skin_color, eye_color, sex, gender, homeworld, species\n",
    "* Continuous variables: height, mass, birth_year"
   ]
  },
  {
   "cell_type": "code",
   "execution_count": 4,
   "metadata": {
    "colab": {
     "base_uri": "https://localhost:8080/"
    },
    "executionInfo": {
     "elapsed": 251,
     "status": "ok",
     "timestamp": 1622869912887,
     "user": {
      "displayName": "Nawon Robine Lee",
      "photoUrl": "https://lh3.googleusercontent.com/a-/AOh14Gi12ldamAsn1hqsJTrRmauAq2FzyRN7Dh2P2pyCVw=s64",
      "userId": "10284095111926858195"
     },
     "user_tz": -540
    },
    "id": "G-0hvZaE4E91",
    "outputId": "a10634a8-1269-479e-cccf-e034e7208103"
   },
   "outputs": [
    {
     "name": "stdout",
     "output_type": "stream",
     "text": [
      "<class 'pandas.core.frame.DataFrame'>\n",
      "RangeIndex: 87 entries, 0 to 86\n",
      "Data columns (total 11 columns):\n",
      " #   Column      Non-Null Count  Dtype  \n",
      "---  ------      --------------  -----  \n",
      " 0   name        87 non-null     object \n",
      " 1   height      81 non-null     float64\n",
      " 2   mass        59 non-null     float64\n",
      " 3   hair_color  82 non-null     object \n",
      " 4   skin_color  87 non-null     object \n",
      " 5   eye_color   87 non-null     object \n",
      " 6   birth_year  43 non-null     float64\n",
      " 7   sex         83 non-null     object \n",
      " 8   gender      83 non-null     object \n",
      " 9   homeworld   77 non-null     object \n",
      " 10  species     83 non-null     object \n",
      "dtypes: float64(3), object(8)\n",
      "memory usage: 7.6+ KB\n"
     ]
    }
   ],
   "source": [
    "sw.info()"
   ]
  },
  {
   "cell_type": "code",
   "execution_count": 5,
   "metadata": {
    "colab": {
     "base_uri": "https://localhost:8080/",
     "height": 295
    },
    "executionInfo": {
     "elapsed": 242,
     "status": "ok",
     "timestamp": 1622869916811,
     "user": {
      "displayName": "Nawon Robine Lee",
      "photoUrl": "https://lh3.googleusercontent.com/a-/AOh14Gi12ldamAsn1hqsJTrRmauAq2FzyRN7Dh2P2pyCVw=s64",
      "userId": "10284095111926858195"
     },
     "user_tz": -540
    },
    "id": "Dus13QqQ8LnR",
    "outputId": "0b4a6e69-6660-4e64-bde9-b30474f9b87e"
   },
   "outputs": [
    {
     "data": {
      "text/html": [
       "<div>\n",
       "<style scoped>\n",
       "    .dataframe tbody tr th:only-of-type {\n",
       "        vertical-align: middle;\n",
       "    }\n",
       "\n",
       "    .dataframe tbody tr th {\n",
       "        vertical-align: top;\n",
       "    }\n",
       "\n",
       "    .dataframe thead th {\n",
       "        text-align: right;\n",
       "    }\n",
       "</style>\n",
       "<table border=\"1\" class=\"dataframe\">\n",
       "  <thead>\n",
       "    <tr style=\"text-align: right;\">\n",
       "      <th></th>\n",
       "      <th>height</th>\n",
       "      <th>mass</th>\n",
       "      <th>birth_year</th>\n",
       "    </tr>\n",
       "  </thead>\n",
       "  <tbody>\n",
       "    <tr>\n",
       "      <th>count</th>\n",
       "      <td>81.000000</td>\n",
       "      <td>59.000000</td>\n",
       "      <td>43.000000</td>\n",
       "    </tr>\n",
       "    <tr>\n",
       "      <th>mean</th>\n",
       "      <td>174.358025</td>\n",
       "      <td>97.311864</td>\n",
       "      <td>87.565116</td>\n",
       "    </tr>\n",
       "    <tr>\n",
       "      <th>std</th>\n",
       "      <td>34.770429</td>\n",
       "      <td>169.457163</td>\n",
       "      <td>154.691439</td>\n",
       "    </tr>\n",
       "    <tr>\n",
       "      <th>min</th>\n",
       "      <td>66.000000</td>\n",
       "      <td>15.000000</td>\n",
       "      <td>8.000000</td>\n",
       "    </tr>\n",
       "    <tr>\n",
       "      <th>25%</th>\n",
       "      <td>167.000000</td>\n",
       "      <td>55.600000</td>\n",
       "      <td>35.000000</td>\n",
       "    </tr>\n",
       "    <tr>\n",
       "      <th>50%</th>\n",
       "      <td>180.000000</td>\n",
       "      <td>79.000000</td>\n",
       "      <td>52.000000</td>\n",
       "    </tr>\n",
       "    <tr>\n",
       "      <th>75%</th>\n",
       "      <td>191.000000</td>\n",
       "      <td>84.500000</td>\n",
       "      <td>72.000000</td>\n",
       "    </tr>\n",
       "    <tr>\n",
       "      <th>max</th>\n",
       "      <td>264.000000</td>\n",
       "      <td>1358.000000</td>\n",
       "      <td>896.000000</td>\n",
       "    </tr>\n",
       "  </tbody>\n",
       "</table>\n",
       "</div>"
      ],
      "text/plain": [
       "           height         mass  birth_year\n",
       "count   81.000000    59.000000   43.000000\n",
       "mean   174.358025    97.311864   87.565116\n",
       "std     34.770429   169.457163  154.691439\n",
       "min     66.000000    15.000000    8.000000\n",
       "25%    167.000000    55.600000   35.000000\n",
       "50%    180.000000    79.000000   52.000000\n",
       "75%    191.000000    84.500000   72.000000\n",
       "max    264.000000  1358.000000  896.000000"
      ]
     },
     "execution_count": 5,
     "metadata": {},
     "output_type": "execute_result"
    }
   ],
   "source": [
    "sw.describe()"
   ]
  },
  {
   "cell_type": "code",
   "execution_count": 9,
   "metadata": {
    "colab": {
     "base_uri": "https://localhost:8080/",
     "height": 172
    },
    "executionInfo": {
     "elapsed": 242,
     "status": "ok",
     "timestamp": 1622869919523,
     "user": {
      "displayName": "Nawon Robine Lee",
      "photoUrl": "https://lh3.googleusercontent.com/a-/AOh14Gi12ldamAsn1hqsJTrRmauAq2FzyRN7Dh2P2pyCVw=s64",
      "userId": "10284095111926858195"
     },
     "user_tz": -540
    },
    "id": "E5XVM8NXlPwN",
    "outputId": "3b05cd44-987d-4150-821f-dc6575497fde"
   },
   "outputs": [
    {
     "name": "stderr",
     "output_type": "stream",
     "text": [
      "<ipython-input-9-dd6f0951d1a9>:1: DeprecationWarning: `np.object` is a deprecated alias for the builtin `object`. To silence this warning, use `object` by itself. Doing this will not modify any behavior and is safe. \n",
      "Deprecated in NumPy 1.20; for more details and guidance: https://numpy.org/devdocs/release/1.20.0-notes.html#deprecations\n",
      "  sw.describe(include=np.object)\n"
     ]
    },
    {
     "data": {
      "text/html": [
       "<div>\n",
       "<style scoped>\n",
       "    .dataframe tbody tr th:only-of-type {\n",
       "        vertical-align: middle;\n",
       "    }\n",
       "\n",
       "    .dataframe tbody tr th {\n",
       "        vertical-align: top;\n",
       "    }\n",
       "\n",
       "    .dataframe thead th {\n",
       "        text-align: right;\n",
       "    }\n",
       "</style>\n",
       "<table border=\"1\" class=\"dataframe\">\n",
       "  <thead>\n",
       "    <tr style=\"text-align: right;\">\n",
       "      <th></th>\n",
       "      <th>name</th>\n",
       "      <th>hair_color</th>\n",
       "      <th>skin_color</th>\n",
       "      <th>eye_color</th>\n",
       "      <th>sex</th>\n",
       "      <th>gender</th>\n",
       "      <th>homeworld</th>\n",
       "      <th>species</th>\n",
       "    </tr>\n",
       "  </thead>\n",
       "  <tbody>\n",
       "    <tr>\n",
       "      <th>count</th>\n",
       "      <td>87</td>\n",
       "      <td>82</td>\n",
       "      <td>87</td>\n",
       "      <td>87</td>\n",
       "      <td>83</td>\n",
       "      <td>83</td>\n",
       "      <td>77</td>\n",
       "      <td>83</td>\n",
       "    </tr>\n",
       "    <tr>\n",
       "      <th>unique</th>\n",
       "      <td>87</td>\n",
       "      <td>12</td>\n",
       "      <td>31</td>\n",
       "      <td>15</td>\n",
       "      <td>4</td>\n",
       "      <td>2</td>\n",
       "      <td>48</td>\n",
       "      <td>37</td>\n",
       "    </tr>\n",
       "    <tr>\n",
       "      <th>top</th>\n",
       "      <td>Luke Skywalker</td>\n",
       "      <td>none</td>\n",
       "      <td>fair</td>\n",
       "      <td>brown</td>\n",
       "      <td>male</td>\n",
       "      <td>masculine</td>\n",
       "      <td>Naboo</td>\n",
       "      <td>Human</td>\n",
       "    </tr>\n",
       "    <tr>\n",
       "      <th>freq</th>\n",
       "      <td>1</td>\n",
       "      <td>37</td>\n",
       "      <td>17</td>\n",
       "      <td>21</td>\n",
       "      <td>60</td>\n",
       "      <td>66</td>\n",
       "      <td>11</td>\n",
       "      <td>35</td>\n",
       "    </tr>\n",
       "  </tbody>\n",
       "</table>\n",
       "</div>"
      ],
      "text/plain": [
       "                  name hair_color skin_color eye_color   sex     gender  \\\n",
       "count               87         82         87        87    83         83   \n",
       "unique              87         12         31        15     4          2   \n",
       "top     Luke Skywalker       none       fair     brown  male  masculine   \n",
       "freq                 1         37         17        21    60         66   \n",
       "\n",
       "       homeworld species  \n",
       "count         77      83  \n",
       "unique        48      37  \n",
       "top        Naboo   Human  \n",
       "freq          11      35  "
      ]
     },
     "execution_count": 9,
     "metadata": {},
     "output_type": "execute_result"
    }
   ],
   "source": [
    "sw.describe(include=np.object)"
   ]
  },
  {
   "cell_type": "code",
   "execution_count": 7,
   "metadata": {
    "colab": {
     "base_uri": "https://localhost:8080/"
    },
    "executionInfo": {
     "elapsed": 291,
     "status": "ok",
     "timestamp": 1622859465790,
     "user": {
      "displayName": "Nawon Robine Lee",
      "photoUrl": "https://lh3.googleusercontent.com/a-/AOh14Gi12ldamAsn1hqsJTrRmauAq2FzyRN7Dh2P2pyCVw=s64",
      "userId": "10284095111926858195"
     },
     "user_tz": -540
    },
    "id": "BH6yxwF06LbW",
    "outputId": "3efc4fe2-3558-42eb-f143-05a62a1b355c"
   },
   "outputs": [
    {
     "name": "stdout",
     "output_type": "stream",
     "text": [
      "Hair colour:  ['blond' nan 'none' 'brown' 'brown, grey' 'black' 'auburn, white'\n",
      " 'auburn, grey' 'white' 'grey' 'auburn' 'blonde' 'unknown']\n",
      "Skin colour:  ['fair' 'gold' 'white, blue' 'white' 'light' 'white, red' 'unknown'\n",
      " 'green' 'green-tan, brown' 'pale' 'metal' 'dark' 'brown mottle' 'brown'\n",
      " 'grey' 'mottled green' 'orange' 'blue, grey' 'grey, red' 'red' 'blue'\n",
      " 'grey, green, yellow' 'yellow' 'tan' 'fair, green, yellow' 'grey, blue'\n",
      " 'silver, red' 'green, grey' 'red, blue, white' 'brown, white' 'none']\n",
      "Eye colour:  ['blue' 'yellow' 'red' 'brown' 'blue-gray' 'black' 'orange' 'hazel' 'pink'\n",
      " 'unknown' 'red, blue' 'gold' 'green, yellow' 'white' 'dark']\n",
      "Sex:  ['male' 'none' 'female' 'hermaphroditic' nan]\n",
      "Gender:  ['masculine' 'feminine' nan]\n",
      "Homeworld:  ['Tatooine' 'Naboo' 'Alderaan' 'Stewjon' 'Eriadu' 'Kashyyyk' 'Corellia'\n",
      " 'Rodia' 'Nal Hutta' 'Bestine IV' nan 'Kamino' 'Trandosha' 'Socorro'\n",
      " 'Bespin' 'Mon Cala' 'Chandrila' 'Endor' 'Sullust' 'Cato Neimoidia'\n",
      " 'Coruscant' 'Toydaria' 'Malastare' 'Dathomir' 'Ryloth' 'Vulpter'\n",
      " 'Troiken' 'Tund' 'Haruun Kal' 'Cerea' 'Glee Anselm' 'Iridonia' 'Iktotch'\n",
      " 'Quermia' 'Dorin' 'Champala' 'Geonosis' 'Mirial' 'Serenno' 'Concord Dawn'\n",
      " 'Zolan' 'Ojom' 'Aleen Minor' 'Skako' 'Muunilinst' 'Shili' 'Kalee'\n",
      " 'Umbara' 'Utapau']\n",
      "Species:  ['Human' 'Droid' 'Wookiee' 'Rodian' 'Hutt' \"Yoda's species\" 'Trandoshan'\n",
      " 'Mon Calamari' 'Ewok' 'Sullustan' 'Neimodian' 'Gungan' nan 'Toydarian'\n",
      " 'Dug' 'Zabrak' \"Twi'lek\" 'Vulptereen' 'Xexto' 'Toong' 'Cerean' 'Nautolan'\n",
      " 'Tholothian' 'Iktotchi' 'Quermian' 'Kel Dor' 'Chagrian' 'Geonosian'\n",
      " 'Mirialan' 'Clawdite' 'Besalisk' 'Kaminoan' 'Aleena' 'Skakoan' 'Muun'\n",
      " 'Togruta' 'Kaleesh' \"Pau'an\"]\n"
     ]
    }
   ],
   "source": [
    "print('Hair colour: ', sw['hair_color'].unique())\n",
    "print('Skin colour: ', sw['skin_color'].unique())\n",
    "print('Eye colour: ', sw['eye_color'].unique())\n",
    "print('Sex: ', sw['sex'].unique())\n",
    "print('Gender: ', sw['gender'].unique())\n",
    "print('Homeworld: ', sw['homeworld'].unique())\n",
    "print('Species: ', sw['species'].unique())"
   ]
  },
  {
   "cell_type": "code",
   "execution_count": 10,
   "metadata": {
    "colab": {
     "base_uri": "https://localhost:8080/"
    },
    "executionInfo": {
     "elapsed": 251,
     "status": "ok",
     "timestamp": 1622871407622,
     "user": {
      "displayName": "Nawon Robine Lee",
      "photoUrl": "https://lh3.googleusercontent.com/a-/AOh14Gi12ldamAsn1hqsJTrRmauAq2FzyRN7Dh2P2pyCVw=s64",
      "userId": "10284095111926858195"
     },
     "user_tz": -540
    },
    "id": "gB_Q12HUFP-s",
    "outputId": "d2f4bf84-0f80-45ad-92ad-acfca59ee91e"
   },
   "outputs": [
    {
     "name": "stdout",
     "output_type": "stream",
     "text": [
      "Data Volume:  957\n",
      "Missing Values: 105 = 10.97% of the data\n",
      "No. of Characters:  87\n",
      "Species:  37\n"
     ]
    }
   ],
   "source": [
    "print(\"Data Volume: \", sw.shape[0]*sw.shape[1])\n",
    "print(\"Missing Values: {} = {:.2f}% of the data\".format(sw.isnull().sum().sum(), (sw.isnull().sum().sum()*100)/(sw.shape[0]*sw.shape[1])))\n",
    "print(\"No. of Characters: \", sw['name'].nunique())\n",
    "print(\"Species: \", sw['species'].nunique())"
   ]
  },
  {
   "cell_type": "markdown",
   "metadata": {
    "id": "pIJrMgjSTZRU"
   },
   "source": [
    "## 2.Questionaries\n",
    "* Gender Ratio?\n",
    "* Height Destribution?\n",
    "* Heaviest or Lightest?\n",
    "* Correlation between Height and Weight?"
   ]
  },
  {
   "cell_type": "markdown",
   "metadata": {
    "id": "t_Lgxtx173SN"
   },
   "source": [
    "## 3. Data Cleansing"
   ]
  },
  {
   "cell_type": "markdown",
   "metadata": {
    "id": "3vLtXt7C8AQ2"
   },
   "source": [
    "### 3-1.Missing Values"
   ]
  },
  {
   "cell_type": "code",
   "execution_count": 11,
   "metadata": {
    "colab": {
     "base_uri": "https://localhost:8080/"
    },
    "executionInfo": {
     "elapsed": 253,
     "status": "ok",
     "timestamp": 1622859473068,
     "user": {
      "displayName": "Nawon Robine Lee",
      "photoUrl": "https://lh3.googleusercontent.com/a-/AOh14Gi12ldamAsn1hqsJTrRmauAq2FzyRN7Dh2P2pyCVw=s64",
      "userId": "10284095111926858195"
     },
     "user_tz": -540
    },
    "id": "kI-6N8XQ78Jw",
    "outputId": "9158a939-f70f-4178-881c-7d15970098ec"
   },
   "outputs": [
    {
     "data": {
      "text/plain": [
       "name          False\n",
       "height         True\n",
       "mass           True\n",
       "hair_color     True\n",
       "skin_color    False\n",
       "eye_color     False\n",
       "birth_year     True\n",
       "sex            True\n",
       "gender         True\n",
       "homeworld      True\n",
       "species        True\n",
       "dtype: bool"
      ]
     },
     "execution_count": 11,
     "metadata": {},
     "output_type": "execute_result"
    }
   ],
   "source": [
    "#NULL Check\n",
    "sw.isnull().any(axis=0)"
   ]
  },
  {
   "cell_type": "code",
   "execution_count": 12,
   "metadata": {
    "colab": {
     "base_uri": "https://localhost:8080/"
    },
    "executionInfo": {
     "elapsed": 373,
     "status": "ok",
     "timestamp": 1624884600720,
     "user": {
      "displayName": "Nawon Robine Lee",
      "photoUrl": "https://lh3.googleusercontent.com/a-/AOh14Gi12ldamAsn1hqsJTrRmauAq2FzyRN7Dh2P2pyCVw=s64",
      "userId": "10284095111926858195"
     },
     "user_tz": -540
    },
    "id": "xXGwRGYGqwl4",
    "outputId": "d7673ef9-9150-49ad-8943-603ac5286956"
   },
   "outputs": [
    {
     "data": {
      "text/plain": [
       "name           0\n",
       "height         6\n",
       "mass          28\n",
       "hair_color     5\n",
       "skin_color     0\n",
       "eye_color      0\n",
       "birth_year    44\n",
       "sex            4\n",
       "gender         4\n",
       "homeworld     10\n",
       "species        4\n",
       "dtype: int64"
      ]
     },
     "execution_count": 12,
     "metadata": {},
     "output_type": "execute_result"
    }
   ],
   "source": [
    "sw.isnull().sum()"
   ]
  },
  {
   "cell_type": "code",
   "execution_count": 13,
   "metadata": {
    "colab": {
     "base_uri": "https://localhost:8080/",
     "height": 203
    },
    "executionInfo": {
     "elapsed": 262,
     "status": "ok",
     "timestamp": 1622868444474,
     "user": {
      "displayName": "Nawon Robine Lee",
      "photoUrl": "https://lh3.googleusercontent.com/a-/AOh14Gi12ldamAsn1hqsJTrRmauAq2FzyRN7Dh2P2pyCVw=s64",
      "userId": "10284095111926858195"
     },
     "user_tz": -540
    },
    "id": "RgfqlFND6yfi",
    "outputId": "c975ce66-af53-4054-c602-c2cfa0c5e83c"
   },
   "outputs": [
    {
     "data": {
      "text/html": [
       "<div>\n",
       "<style scoped>\n",
       "    .dataframe tbody tr th:only-of-type {\n",
       "        vertical-align: middle;\n",
       "    }\n",
       "\n",
       "    .dataframe tbody tr th {\n",
       "        vertical-align: top;\n",
       "    }\n",
       "\n",
       "    .dataframe thead th {\n",
       "        text-align: right;\n",
       "    }\n",
       "</style>\n",
       "<table border=\"1\" class=\"dataframe\">\n",
       "  <thead>\n",
       "    <tr style=\"text-align: right;\">\n",
       "      <th></th>\n",
       "      <th>name</th>\n",
       "      <th>height</th>\n",
       "      <th>mass</th>\n",
       "      <th>hair_color</th>\n",
       "      <th>skin_color</th>\n",
       "      <th>eye_color</th>\n",
       "      <th>birth_year</th>\n",
       "      <th>sex</th>\n",
       "      <th>gender</th>\n",
       "      <th>homeworld</th>\n",
       "      <th>species</th>\n",
       "    </tr>\n",
       "  </thead>\n",
       "  <tbody>\n",
       "    <tr>\n",
       "      <th>0</th>\n",
       "      <td>Luke Skywalker</td>\n",
       "      <td>172.0</td>\n",
       "      <td>77.0</td>\n",
       "      <td>blond</td>\n",
       "      <td>fair</td>\n",
       "      <td>blue</td>\n",
       "      <td>19.0</td>\n",
       "      <td>male</td>\n",
       "      <td>masculine</td>\n",
       "      <td>Tatooine</td>\n",
       "      <td>Human</td>\n",
       "    </tr>\n",
       "    <tr>\n",
       "      <th>1</th>\n",
       "      <td>C-3PO</td>\n",
       "      <td>167.0</td>\n",
       "      <td>75.0</td>\n",
       "      <td>NaN</td>\n",
       "      <td>gold</td>\n",
       "      <td>yellow</td>\n",
       "      <td>112.0</td>\n",
       "      <td>none</td>\n",
       "      <td>masculine</td>\n",
       "      <td>Tatooine</td>\n",
       "      <td>Droid</td>\n",
       "    </tr>\n",
       "    <tr>\n",
       "      <th>2</th>\n",
       "      <td>R2-D2</td>\n",
       "      <td>96.0</td>\n",
       "      <td>32.0</td>\n",
       "      <td>NaN</td>\n",
       "      <td>white, blue</td>\n",
       "      <td>red</td>\n",
       "      <td>33.0</td>\n",
       "      <td>none</td>\n",
       "      <td>masculine</td>\n",
       "      <td>Naboo</td>\n",
       "      <td>Droid</td>\n",
       "    </tr>\n",
       "    <tr>\n",
       "      <th>3</th>\n",
       "      <td>Darth Vader</td>\n",
       "      <td>202.0</td>\n",
       "      <td>136.0</td>\n",
       "      <td>none</td>\n",
       "      <td>white</td>\n",
       "      <td>yellow</td>\n",
       "      <td>41.9</td>\n",
       "      <td>male</td>\n",
       "      <td>masculine</td>\n",
       "      <td>Tatooine</td>\n",
       "      <td>Human</td>\n",
       "    </tr>\n",
       "    <tr>\n",
       "      <th>4</th>\n",
       "      <td>Leia Organa</td>\n",
       "      <td>150.0</td>\n",
       "      <td>49.0</td>\n",
       "      <td>brown</td>\n",
       "      <td>light</td>\n",
       "      <td>brown</td>\n",
       "      <td>19.0</td>\n",
       "      <td>female</td>\n",
       "      <td>feminine</td>\n",
       "      <td>Alderaan</td>\n",
       "      <td>Human</td>\n",
       "    </tr>\n",
       "  </tbody>\n",
       "</table>\n",
       "</div>"
      ],
      "text/plain": [
       "             name  height   mass hair_color   skin_color eye_color  \\\n",
       "0  Luke Skywalker   172.0   77.0      blond         fair      blue   \n",
       "1           C-3PO   167.0   75.0        NaN         gold    yellow   \n",
       "2           R2-D2    96.0   32.0        NaN  white, blue       red   \n",
       "3     Darth Vader   202.0  136.0       none        white    yellow   \n",
       "4     Leia Organa   150.0   49.0      brown        light     brown   \n",
       "\n",
       "   birth_year     sex     gender homeworld species  \n",
       "0        19.0    male  masculine  Tatooine   Human  \n",
       "1       112.0    none  masculine  Tatooine   Droid  \n",
       "2        33.0    none  masculine     Naboo   Droid  \n",
       "3        41.9    male  masculine  Tatooine   Human  \n",
       "4        19.0  female   feminine  Alderaan   Human  "
      ]
     },
     "execution_count": 13,
     "metadata": {},
     "output_type": "execute_result"
    }
   ],
   "source": [
    "# Replacing 0 to null values at numerical column\n",
    "sw['height'].fillna(0, inplace=True)\n",
    "sw['mass'].fillna(0, inplace=True)\n",
    "sw.head()"
   ]
  },
  {
   "cell_type": "code",
   "execution_count": 14,
   "metadata": {
    "colab": {
     "base_uri": "https://localhost:8080/"
    },
    "executionInfo": {
     "elapsed": 256,
     "status": "ok",
     "timestamp": 1622869969760,
     "user": {
      "displayName": "Nawon Robine Lee",
      "photoUrl": "https://lh3.googleusercontent.com/a-/AOh14Gi12ldamAsn1hqsJTrRmauAq2FzyRN7Dh2P2pyCVw=s64",
      "userId": "10284095111926858195"
     },
     "user_tz": -540
    },
    "id": "nG4tyoQuTSOe",
    "outputId": "7f9cb7c0-3317-40fd-bdbb-a454a5b3caa5"
   },
   "outputs": [
    {
     "name": "stdout",
     "output_type": "stream",
     "text": [
      "      name  height   mass hair_color   skin_color  eye_color  birth_year  \\\n",
      "1    C-3PO   167.0   75.0        NaN         gold     yellow       112.0   \n",
      "2    R2-D2    96.0   32.0        NaN  white, blue        red        33.0   \n",
      "7    R5-D4    97.0   32.0        NaN   white, red        red         NaN   \n",
      "21   IG-88   200.0  140.0       none        metal        red        15.0   \n",
      "72  R4-P17    96.0    0.0       none  silver, red  red, blue         NaN   \n",
      "84     BB8     0.0    0.0       none         none      black         NaN   \n",
      "\n",
      "     sex     gender homeworld species  \n",
      "1   none  masculine  Tatooine   Droid  \n",
      "2   none  masculine     Naboo   Droid  \n",
      "7   none  masculine  Tatooine   Droid  \n",
      "21  none  masculine       NaN   Droid  \n",
      "72  none   feminine       NaN   Droid  \n",
      "84  none  masculine       NaN   Droid  \n",
      "              name  height  mass hair_color skin_color eye_color  birth_year  \\\n",
      "36        Ric Oli?   183.0   0.0      brown       fair      blue         NaN   \n",
      "39   Quarsh Panaka   183.0   0.0      black       dark     brown        62.0   \n",
      "79       Sly Moore   178.0  48.0       none       pale     white         NaN   \n",
      "85  Captain Phasma     0.0   0.0    unknown    unknown   unknown         NaN   \n",
      "\n",
      "    sex gender homeworld species  \n",
      "36  NaN    NaN     Naboo     NaN  \n",
      "39  NaN    NaN     Naboo     NaN  \n",
      "79  NaN    NaN    Umbara     NaN  \n",
      "85  NaN    NaN       NaN     NaN  \n"
     ]
    }
   ],
   "source": [
    "print(sw[sw['sex'] == 'none'])\n",
    "print(sw[sw['sex'].isnull()])"
   ]
  },
  {
   "cell_type": "code",
   "execution_count": 15,
   "metadata": {
    "colab": {
     "base_uri": "https://localhost:8080/"
    },
    "executionInfo": {
     "elapsed": 243,
     "status": "ok",
     "timestamp": 1622869972040,
     "user": {
      "displayName": "Nawon Robine Lee",
      "photoUrl": "https://lh3.googleusercontent.com/a-/AOh14Gi12ldamAsn1hqsJTrRmauAq2FzyRN7Dh2P2pyCVw=s64",
      "userId": "10284095111926858195"
     },
     "user_tz": -540
    },
    "id": "cZ5cadM6UTAQ",
    "outputId": "8e195de9-6c71-4128-b2a5-9b8f6315bf45"
   },
   "outputs": [
    {
     "name": "stdout",
     "output_type": "stream",
     "text": [
      "Sex:  ['male' 'robot' 'female' 'hermaphroditic' nan]\n"
     ]
    },
    {
     "name": "stderr",
     "output_type": "stream",
     "text": [
      "<ipython-input-15-5a48ae80c718>:2: SettingWithCopyWarning: \n",
      "A value is trying to be set on a copy of a slice from a DataFrame\n",
      "\n",
      "See the caveats in the documentation: https://pandas.pydata.org/pandas-docs/stable/user_guide/indexing.html#returning-a-view-versus-a-copy\n",
      "  sw['sex'][(sw['sex'] == 'none')] = 'robot'\n"
     ]
    }
   ],
   "source": [
    "#Replacing none to Droid (Species)\n",
    "sw['sex'][(sw['sex'] == 'none')] = 'robot'\n",
    "print('Sex: ', sw['sex'].unique())"
   ]
  },
  {
   "cell_type": "markdown",
   "metadata": {
    "id": "hbEQOtz_Nn-6"
   },
   "source": [
    "## 4.EDA & Visualization"
   ]
  },
  {
   "cell_type": "markdown",
   "metadata": {
    "id": "Da91oKSnWxsV"
   },
   "source": [
    "### 4-1. Gender/Sex Ratio"
   ]
  },
  {
   "cell_type": "code",
   "execution_count": 16,
   "metadata": {
    "colab": {
     "base_uri": "https://localhost:8080/"
    },
    "executionInfo": {
     "elapsed": 254,
     "status": "ok",
     "timestamp": 1622868488947,
     "user": {
      "displayName": "Nawon Robine Lee",
      "photoUrl": "https://lh3.googleusercontent.com/a-/AOh14Gi12ldamAsn1hqsJTrRmauAq2FzyRN7Dh2P2pyCVw=s64",
      "userId": "10284095111926858195"
     },
     "user_tz": -540
    },
    "id": "Vu249uRYEkHv",
    "outputId": "30d29ca3-8ae7-4c8b-9275-a352e0bbaa79"
   },
   "outputs": [
    {
     "data": {
      "text/plain": [
       "masculine    66\n",
       "feminine     17\n",
       "Name: gender, dtype: int64"
      ]
     },
     "execution_count": 16,
     "metadata": {},
     "output_type": "execute_result"
    }
   ],
   "source": [
    "sw['sex'].value_counts()\n",
    "sw['gender'].value_counts()"
   ]
  },
  {
   "cell_type": "code",
   "execution_count": 17,
   "metadata": {
    "colab": {
     "base_uri": "https://localhost:8080/",
     "height": 526
    },
    "executionInfo": {
     "elapsed": 890,
     "status": "ok",
     "timestamp": 1622868561948,
     "user": {
      "displayName": "Nawon Robine Lee",
      "photoUrl": "https://lh3.googleusercontent.com/a-/AOh14Gi12ldamAsn1hqsJTrRmauAq2FzyRN7Dh2P2pyCVw=s64",
      "userId": "10284095111926858195"
     },
     "user_tz": -540
    },
    "id": "-ByHlT4UWvpQ",
    "outputId": "13f83d85-2bba-47fa-9243-029c132dcb38"
   },
   "outputs": [
    {
     "data": {
      "image/png": "[encoded data removed]",
      "text/plain": [
       "<Figure size 1296x576 with 2 Axes>"
      ]
     },
     "metadata": {},
     "output_type": "display_data"
    }
   ],
   "source": [
    "f, ax = plt.subplots(1, 2, figsize=(18, 8))\n",
    "\n",
    "sw['gender'].value_counts().plot.pie(ax=ax[0], autopct='%1.0f%%', shadow=True)\n",
    "ax[0].set_title('Starwars: Gender', size=18)\n",
    "ax[0].set_ylabel('')\n",
    "\n",
    "sns.countplot(y='sex', data=sw, ax=ax[1])\n",
    "ax[1].set_title('Starwars: Sex', size=18) #그래프 제목\n",
    "\n",
    "plt.show()"
   ]
  },
  {
   "cell_type": "markdown",
   "metadata": {
    "id": "C2AEfyjvSMQj"
   },
   "source": [
    "### 4-2. Gender-Height distribution"
   ]
  },
  {
   "cell_type": "code",
   "execution_count": 18,
   "metadata": {
    "colab": {
     "base_uri": "https://localhost:8080/"
    },
    "executionInfo": {
     "elapsed": 242,
     "status": "ok",
     "timestamp": 1622869981493,
     "user": {
      "displayName": "Nawon Robine Lee",
      "photoUrl": "https://lh3.googleusercontent.com/a-/AOh14Gi12ldamAsn1hqsJTrRmauAq2FzyRN7Dh2P2pyCVw=s64",
      "userId": "10284095111926858195"
     },
     "user_tz": -540
    },
    "id": "zbxh0io5mXJ2",
    "outputId": "dc2aa4d5-5b61-4d0b-9320-0575e1103b05"
   },
   "outputs": [
    {
     "data": {
      "text/plain": [
       "count     87.000000\n",
       "mean     162.333333\n",
       "std       55.671726\n",
       "min        0.000000\n",
       "25%      164.000000\n",
       "50%      178.000000\n",
       "75%      190.500000\n",
       "max      264.000000\n",
       "Name: height, dtype: float64"
      ]
     },
     "execution_count": 18,
     "metadata": {},
     "output_type": "execute_result"
    }
   ],
   "source": [
    "sw['height'].describe()"
   ]
  },
  {
   "cell_type": "code",
   "execution_count": 19,
   "metadata": {
    "colab": {
     "base_uri": "https://localhost:8080/"
    },
    "executionInfo": {
     "elapsed": 235,
     "status": "ok",
     "timestamp": 1622869983556,
     "user": {
      "displayName": "Nawon Robine Lee",
      "photoUrl": "https://lh3.googleusercontent.com/a-/AOh14Gi12ldamAsn1hqsJTrRmauAq2FzyRN7Dh2P2pyCVw=s64",
      "userId": "10284095111926858195"
     },
     "user_tz": -540
    },
    "id": "Yo27gESEmqkP",
    "outputId": "aff8f3f5-2dc1-4664-cb73-d214701de07a"
   },
   "outputs": [
    {
     "name": "stdout",
     "output_type": "stream",
     "text": [
      "Skewness: -1.760878\n",
      "Kurtosis: 2.927697\n"
     ]
    }
   ],
   "source": [
    "#skewness and kurtosis\n",
    "print(\"Skewness: %f\" % sw['height'].skew())\n",
    "print(\"Kurtosis: %f\" % sw['height'].kurt())"
   ]
  },
  {
   "cell_type": "code",
   "execution_count": 20,
   "metadata": {
    "colab": {
     "base_uri": "https://localhost:8080/",
     "height": 77
    },
    "executionInfo": {
     "elapsed": 4,
     "status": "ok",
     "timestamp": 1622543420279,
     "user": {
      "displayName": "Nawon Robine Lee",
      "photoUrl": "https://lh3.googleusercontent.com/a-/AOh14Gi12ldamAsn1hqsJTrRmauAq2FzyRN7Dh2P2pyCVw=s64",
      "userId": "10284095111926858195"
     },
     "user_tz": -540
    },
    "id": "nlTtSH7vVduW",
    "outputId": "659a5345-0305-4ebc-924c-c43e44cf5d81"
   },
   "outputs": [
    {
     "data": {
      "text/html": [
       "<div>\n",
       "<style scoped>\n",
       "    .dataframe tbody tr th:only-of-type {\n",
       "        vertical-align: middle;\n",
       "    }\n",
       "\n",
       "    .dataframe tbody tr th {\n",
       "        vertical-align: top;\n",
       "    }\n",
       "\n",
       "    .dataframe thead th {\n",
       "        text-align: right;\n",
       "    }\n",
       "</style>\n",
       "<table border=\"1\" class=\"dataframe\">\n",
       "  <thead>\n",
       "    <tr style=\"text-align: right;\">\n",
       "      <th></th>\n",
       "      <th>name</th>\n",
       "      <th>height</th>\n",
       "      <th>mass</th>\n",
       "      <th>hair_color</th>\n",
       "      <th>skin_color</th>\n",
       "      <th>eye_color</th>\n",
       "      <th>birth_year</th>\n",
       "      <th>sex</th>\n",
       "      <th>gender</th>\n",
       "      <th>homeworld</th>\n",
       "      <th>species</th>\n",
       "    </tr>\n",
       "  </thead>\n",
       "  <tbody>\n",
       "    <tr>\n",
       "      <th>15</th>\n",
       "      <td>Jabba Desilijic Tiure</td>\n",
       "      <td>175.0</td>\n",
       "      <td>1358.0</td>\n",
       "      <td>NaN</td>\n",
       "      <td>green-tan, brown</td>\n",
       "      <td>orange</td>\n",
       "      <td>600.0</td>\n",
       "      <td>hermaphroditic</td>\n",
       "      <td>masculine</td>\n",
       "      <td>Nal Hutta</td>\n",
       "      <td>Hutt</td>\n",
       "    </tr>\n",
       "  </tbody>\n",
       "</table>\n",
       "</div>"
      ],
      "text/plain": [
       "                     name  height    mass hair_color        skin_color  \\\n",
       "15  Jabba Desilijic Tiure   175.0  1358.0        NaN  green-tan, brown   \n",
       "\n",
       "   eye_color  birth_year             sex     gender  homeworld species  \n",
       "15    orange       600.0  hermaphroditic  masculine  Nal Hutta    Hutt  "
      ]
     },
     "execution_count": 20,
     "metadata": {},
     "output_type": "execute_result"
    }
   ],
   "source": [
    "sw[sw['sex'] == 'hermaphroditic'].head()"
   ]
  },
  {
   "cell_type": "code",
   "execution_count": 21,
   "metadata": {
    "colab": {
     "base_uri": "https://localhost:8080/",
     "height": 343
    },
    "executionInfo": {
     "elapsed": 1290,
     "status": "ok",
     "timestamp": 1622868868138,
     "user": {
      "displayName": "Nawon Robine Lee",
      "photoUrl": "https://lh3.googleusercontent.com/a-/AOh14Gi12ldamAsn1hqsJTrRmauAq2FzyRN7Dh2P2pyCVw=s64",
      "userId": "10284095111926858195"
     },
     "user_tz": -540
    },
    "id": "UkRl3_9MNgPg",
    "outputId": "bdde6ad7-8247-43be-add8-25a1916f82a9"
   },
   "outputs": [
    {
     "data": {
      "image/png": "[encoded data removed]",
      "text/plain": [
       "<Figure size 1152x360 with 2 Axes>"
      ]
     },
     "metadata": {},
     "output_type": "display_data"
    }
   ],
   "source": [
    "fig, ax = plt.subplots(1, 2, figsize=(16, 5))\n",
    "\n",
    "#sns.distplot\n",
    "sns.distplot(sw[sw['sex'] == 'male']['height'], ax=ax[0])\n",
    "sns.distplot(sw[sw['sex'] == 'female']['height'], ax=ax[0])\n",
    "sns.distplot(sw[sw['sex'] == 'robot']['height'], ax=ax[0])\n",
    "ax[0].legend(['Male','Female','Robot'])\n",
    "\n",
    "#sns.kdeplot\n",
    "sns.kdeplot(sw[sw['gender'] == 'masculine']['height'], ax=ax[1])\n",
    "sns.kdeplot(sw[sw['gender'] == 'feminine']['height'], ax=ax[1])\n",
    "ax[1].legend(['Masculine','Feminine'])\n",
    "\n",
    "plt.show()"
   ]
  },
  {
   "cell_type": "markdown",
   "metadata": {
    "id": "8h0lRuwqIPz8"
   },
   "source": [
    "### 4-3. Heaviest and Lightest Character"
   ]
  },
  {
   "cell_type": "code",
   "execution_count": 22,
   "metadata": {
    "colab": {
     "base_uri": "https://localhost:8080/"
    },
    "executionInfo": {
     "elapsed": 254,
     "status": "ok",
     "timestamp": 1622871059495,
     "user": {
      "displayName": "Nawon Robine Lee",
      "photoUrl": "https://lh3.googleusercontent.com/a-/AOh14Gi12ldamAsn1hqsJTrRmauAq2FzyRN7Dh2P2pyCVw=s64",
      "userId": "10284095111926858195"
     },
     "user_tz": -540
    },
    "id": "pr039q8SMSqb",
    "outputId": "b0f6cd19-02d0-4471-f8da-00739e8be0be"
   },
   "outputs": [
    {
     "data": {
      "text/plain": [
       "15.0"
      ]
     },
     "execution_count": 22,
     "metadata": {},
     "output_type": "execute_result"
    }
   ],
   "source": [
    "notz = sw[sw['mass'] != 0]\n",
    "min(notz['mass'])"
   ]
  },
  {
   "cell_type": "code",
   "execution_count": 23,
   "metadata": {
    "colab": {
     "base_uri": "https://localhost:8080/"
    },
    "executionInfo": {
     "elapsed": 249,
     "status": "ok",
     "timestamp": 1622871149836,
     "user": {
      "displayName": "Nawon Robine Lee",
      "photoUrl": "https://lh3.googleusercontent.com/a-/AOh14Gi12ldamAsn1hqsJTrRmauAq2FzyRN7Dh2P2pyCVw=s64",
      "userId": "10284095111926858195"
     },
     "user_tz": -540
    },
    "id": "9yFDO0AKIPQt",
    "outputId": "723f289d-4b94-4f0b-e1df-552d37adefad"
   },
   "outputs": [
    {
     "name": "stdout",
     "output_type": "stream",
     "text": [
      "['Ratts Tyerell']'s weight is 15.0, which is heaviest \n",
      "['Jabba Desilijic Tiure']'s weight is 1358.0, which is lightest \n"
     ]
    }
   ],
   "source": [
    "print(\"{}'s weight is {}, which is heaviest \".format(notz[notz['mass'] == min(notz['mass'])]['name'].values, min(notz['mass'])))\n",
    "print(\"{}'s weight is {}, which is lightest \".format(notz[notz['mass'] == max(notz['mass'])]['name'].values, max(notz['mass'])))"
   ]
  },
  {
   "cell_type": "markdown",
   "metadata": {
    "id": "4yq6VQQ3WUWl"
   },
   "source": [
    "### 4-4. Species comparison (Weight)"
   ]
  },
  {
   "cell_type": "code",
   "execution_count": 24,
   "metadata": {
    "colab": {
     "base_uri": "https://localhost:8080/",
     "height": 1000
    },
    "executionInfo": {
     "elapsed": 8,
     "status": "ok",
     "timestamp": 1622870666191,
     "user": {
      "displayName": "Nawon Robine Lee",
      "photoUrl": "https://lh3.googleusercontent.com/a-/AOh14Gi12ldamAsn1hqsJTrRmauAq2FzyRN7Dh2P2pyCVw=s64",
      "userId": "10284095111926858195"
     },
     "user_tz": -540
    },
    "id": "r1EtWq4zS1dL",
    "outputId": "ec3d75fe-2743-4002-d633-7c09d0ce64c0"
   },
   "outputs": [
    {
     "data": {
      "text/html": [
       "<div>\n",
       "<style scoped>\n",
       "    .dataframe tbody tr th:only-of-type {\n",
       "        vertical-align: middle;\n",
       "    }\n",
       "\n",
       "    .dataframe tbody tr th {\n",
       "        vertical-align: top;\n",
       "    }\n",
       "\n",
       "    .dataframe thead th {\n",
       "        text-align: right;\n",
       "    }\n",
       "</style>\n",
       "<table border=\"1\" class=\"dataframe\">\n",
       "  <thead>\n",
       "    <tr style=\"text-align: right;\">\n",
       "      <th></th>\n",
       "      <th>mass</th>\n",
       "    </tr>\n",
       "    <tr>\n",
       "      <th>species</th>\n",
       "      <th></th>\n",
       "    </tr>\n",
       "  </thead>\n",
       "  <tbody>\n",
       "    <tr>\n",
       "      <th>Aleena</th>\n",
       "      <td>15.000000</td>\n",
       "    </tr>\n",
       "    <tr>\n",
       "      <th>Besalisk</th>\n",
       "      <td>102.000000</td>\n",
       "    </tr>\n",
       "    <tr>\n",
       "      <th>Cerean</th>\n",
       "      <td>82.000000</td>\n",
       "    </tr>\n",
       "    <tr>\n",
       "      <th>Chagrian</th>\n",
       "      <td>0.000000</td>\n",
       "    </tr>\n",
       "    <tr>\n",
       "      <th>Clawdite</th>\n",
       "      <td>55.000000</td>\n",
       "    </tr>\n",
       "    <tr>\n",
       "      <th>Droid</th>\n",
       "      <td>46.500000</td>\n",
       "    </tr>\n",
       "    <tr>\n",
       "      <th>Dug</th>\n",
       "      <td>40.000000</td>\n",
       "    </tr>\n",
       "    <tr>\n",
       "      <th>Ewok</th>\n",
       "      <td>20.000000</td>\n",
       "    </tr>\n",
       "    <tr>\n",
       "      <th>Geonosian</th>\n",
       "      <td>80.000000</td>\n",
       "    </tr>\n",
       "    <tr>\n",
       "      <th>Gungan</th>\n",
       "      <td>49.333333</td>\n",
       "    </tr>\n",
       "    <tr>\n",
       "      <th>Human</th>\n",
       "      <td>52.034286</td>\n",
       "    </tr>\n",
       "    <tr>\n",
       "      <th>Hutt</th>\n",
       "      <td>1358.000000</td>\n",
       "    </tr>\n",
       "    <tr>\n",
       "      <th>Iktotchi</th>\n",
       "      <td>0.000000</td>\n",
       "    </tr>\n",
       "    <tr>\n",
       "      <th>Kaleesh</th>\n",
       "      <td>159.000000</td>\n",
       "    </tr>\n",
       "    <tr>\n",
       "      <th>Kaminoan</th>\n",
       "      <td>44.000000</td>\n",
       "    </tr>\n",
       "    <tr>\n",
       "      <th>Kel Dor</th>\n",
       "      <td>80.000000</td>\n",
       "    </tr>\n",
       "    <tr>\n",
       "      <th>Mirialan</th>\n",
       "      <td>53.100000</td>\n",
       "    </tr>\n",
       "    <tr>\n",
       "      <th>Mon Calamari</th>\n",
       "      <td>83.000000</td>\n",
       "    </tr>\n",
       "    <tr>\n",
       "      <th>Muun</th>\n",
       "      <td>0.000000</td>\n",
       "    </tr>\n",
       "    <tr>\n",
       "      <th>Nautolan</th>\n",
       "      <td>87.000000</td>\n",
       "    </tr>\n",
       "    <tr>\n",
       "      <th>Neimodian</th>\n",
       "      <td>90.000000</td>\n",
       "    </tr>\n",
       "    <tr>\n",
       "      <th>Pau'an</th>\n",
       "      <td>80.000000</td>\n",
       "    </tr>\n",
       "    <tr>\n",
       "      <th>Quermian</th>\n",
       "      <td>0.000000</td>\n",
       "    </tr>\n",
       "    <tr>\n",
       "      <th>Rodian</th>\n",
       "      <td>74.000000</td>\n",
       "    </tr>\n",
       "    <tr>\n",
       "      <th>Skakoan</th>\n",
       "      <td>48.000000</td>\n",
       "    </tr>\n",
       "    <tr>\n",
       "      <th>Sullustan</th>\n",
       "      <td>68.000000</td>\n",
       "    </tr>\n",
       "    <tr>\n",
       "      <th>Tholothian</th>\n",
       "      <td>50.000000</td>\n",
       "    </tr>\n",
       "    <tr>\n",
       "      <th>Togruta</th>\n",
       "      <td>57.000000</td>\n",
       "    </tr>\n",
       "    <tr>\n",
       "      <th>Toong</th>\n",
       "      <td>65.000000</td>\n",
       "    </tr>\n",
       "    <tr>\n",
       "      <th>Toydarian</th>\n",
       "      <td>0.000000</td>\n",
       "    </tr>\n",
       "    <tr>\n",
       "      <th>Trandoshan</th>\n",
       "      <td>113.000000</td>\n",
       "    </tr>\n",
       "    <tr>\n",
       "      <th>Twi'lek</th>\n",
       "      <td>27.500000</td>\n",
       "    </tr>\n",
       "    <tr>\n",
       "      <th>Vulptereen</th>\n",
       "      <td>45.000000</td>\n",
       "    </tr>\n",
       "    <tr>\n",
       "      <th>Wookiee</th>\n",
       "      <td>124.000000</td>\n",
       "    </tr>\n",
       "    <tr>\n",
       "      <th>Xexto</th>\n",
       "      <td>0.000000</td>\n",
       "    </tr>\n",
       "    <tr>\n",
       "      <th>Yoda's species</th>\n",
       "      <td>17.000000</td>\n",
       "    </tr>\n",
       "    <tr>\n",
       "      <th>Zabrak</th>\n",
       "      <td>40.000000</td>\n",
       "    </tr>\n",
       "  </tbody>\n",
       "</table>\n",
       "</div>"
      ],
      "text/plain": [
       "                       mass\n",
       "species                    \n",
       "Aleena            15.000000\n",
       "Besalisk         102.000000\n",
       "Cerean            82.000000\n",
       "Chagrian           0.000000\n",
       "Clawdite          55.000000\n",
       "Droid             46.500000\n",
       "Dug               40.000000\n",
       "Ewok              20.000000\n",
       "Geonosian         80.000000\n",
       "Gungan            49.333333\n",
       "Human             52.034286\n",
       "Hutt            1358.000000\n",
       "Iktotchi           0.000000\n",
       "Kaleesh          159.000000\n",
       "Kaminoan          44.000000\n",
       "Kel Dor           80.000000\n",
       "Mirialan          53.100000\n",
       "Mon Calamari      83.000000\n",
       "Muun               0.000000\n",
       "Nautolan          87.000000\n",
       "Neimodian         90.000000\n",
       "Pau'an            80.000000\n",
       "Quermian           0.000000\n",
       "Rodian            74.000000\n",
       "Skakoan           48.000000\n",
       "Sullustan         68.000000\n",
       "Tholothian        50.000000\n",
       "Togruta           57.000000\n",
       "Toong             65.000000\n",
       "Toydarian          0.000000\n",
       "Trandoshan       113.000000\n",
       "Twi'lek           27.500000\n",
       "Vulptereen        45.000000\n",
       "Wookiee          124.000000\n",
       "Xexto              0.000000\n",
       "Yoda's species    17.000000\n",
       "Zabrak            40.000000"
      ]
     },
     "execution_count": 24,
     "metadata": {},
     "output_type": "execute_result"
    }
   ],
   "source": [
    "#Average calculation by function 'Groupby'\n",
    "weight = sw[['species', 'mass']].groupby(['species'], as_index=True).mean()\n",
    "weight"
   ]
  },
  {
   "cell_type": "code",
   "execution_count": 25,
   "metadata": {
    "colab": {
     "base_uri": "https://localhost:8080/",
     "height": 339
    },
    "executionInfo": {
     "elapsed": 452,
     "status": "ok",
     "timestamp": 1622872490276,
     "user": {
      "displayName": "Nawon Robine Lee",
      "photoUrl": "https://lh3.googleusercontent.com/a-/AOh14Gi12ldamAsn1hqsJTrRmauAq2FzyRN7Dh2P2pyCVw=s64",
      "userId": "10284095111926858195"
     },
     "user_tz": -540
    },
    "id": "zqrwt6C_eJsu",
    "outputId": "77b22cf0-6e93-4c0e-c8ef-1acaf033394c"
   },
   "outputs": [
    {
     "data": {
      "image/png": "[encoded data removed]",
      "text/plain": [
       "<Figure size 576x396 with 1 Axes>"
      ]
     },
     "metadata": {},
     "output_type": "display_data"
    }
   ],
   "source": [
    "#Top 10 descending graph\n",
    "weight['mass'].sort_values(ascending=False).head(10).plot.bar(color='red')\n",
    "\n",
    "plt.xticks(rotation=45)\n",
    "plt.show()"
   ]
  },
  {
   "cell_type": "code",
   "execution_count": 26,
   "metadata": {
    "colab": {
     "base_uri": "https://localhost:8080/",
     "height": 575
    },
    "executionInfo": {
     "elapsed": 697,
     "status": "ok",
     "timestamp": 1622872505341,
     "user": {
      "displayName": "Nawon Robine Lee",
      "photoUrl": "https://lh3.googleusercontent.com/a-/AOh14Gi12ldamAsn1hqsJTrRmauAq2FzyRN7Dh2P2pyCVw=s64",
      "userId": "10284095111926858195"
     },
     "user_tz": -540
    },
    "id": "0b0HQVDbKp3t",
    "outputId": "a721f3b2-9226-4717-c9f4-e0b3f090e310"
   },
   "outputs": [
    {
     "data": {
      "image/png": "[encoded data removed]",
      "text/plain": [
       "<Figure size 720x576 with 1 Axes>"
      ]
     },
     "metadata": {},
     "output_type": "display_data"
    }
   ],
   "source": [
    "f, ax = plt.subplots(1, 1, figsize=(10, 8))\n",
    "\n",
    "colors = sns.color_palette('hls',len(weight['mass'])) #hls라는 컬러팔레트에서 어떤 컬러를 입혀줄지 결정\n",
    "\n",
    "g = weight['mass'].sort_values(ascending=False).plot.bar(color = colors)\n",
    "g.set_xticklabels(g.get_xticklabels(),rotation=90) #라벨이 겹쳐져서 보이니까 90도 돌려준다\n",
    "\n",
    "plt.show()"
   ]
  },
  {
   "cell_type": "markdown",
   "metadata": {
    "id": "rXS5EiJAqIc9"
   },
   "source": [
    "### 4-5. Height-Weight Correlation Graph"
   ]
  },
  {
   "cell_type": "code",
   "execution_count": 27,
   "metadata": {
    "colab": {
     "base_uri": "https://localhost:8080/"
    },
    "executionInfo": {
     "elapsed": 245,
     "status": "ok",
     "timestamp": 1622216554027,
     "user": {
      "displayName": "Nawon Robine Lee",
      "photoUrl": "https://lh3.googleusercontent.com/a-/AOh14Gi12ldamAsn1hqsJTrRmauAq2FzyRN7Dh2P2pyCVw=s64",
      "userId": "10284095111926858195"
     },
     "user_tz": -540
    },
    "id": "hK2jQwyhltL1",
    "outputId": "76da352d-f77c-480c-da99-c213260a32f8"
   },
   "outputs": [
    {
     "name": "stderr",
     "output_type": "stream",
     "text": [
      "<ipython-input-27-09960d45410d>:4: UserWarning: Boolean Series key will be reindexed to match DataFrame index.\n",
      "  sw[~out1][~out2].shape\n"
     ]
    },
    {
     "data": {
      "text/plain": [
       "(86, 11)"
      ]
     },
     "execution_count": 27,
     "metadata": {},
     "output_type": "execute_result"
    }
   ],
   "source": [
    "#Cleansing Outliers and 0 values\n",
    "out1 = sw['species'].isin(['Hutt'])\n",
    "out2 = sw['mass'].isin(['0'])\n",
    "sw[~out1][~out2].shape"
   ]
  },
  {
   "cell_type": "code",
   "execution_count": 28,
   "metadata": {
    "colab": {
     "base_uri": "https://localhost:8080/",
     "height": 422
    },
    "executionInfo": {
     "elapsed": 1328,
     "status": "ok",
     "timestamp": 1622216705219,
     "user": {
      "displayName": "Nawon Robine Lee",
      "photoUrl": "https://lh3.googleusercontent.com/a-/AOh14Gi12ldamAsn1hqsJTrRmauAq2FzyRN7Dh2P2pyCVw=s64",
      "userId": "10284095111926858195"
     },
     "user_tz": -540
    },
    "id": "b0K_dJowkHM9",
    "outputId": "b9e9c8d3-d361-4f57-9737-680cf08573de"
   },
   "outputs": [
    {
     "name": "stderr",
     "output_type": "stream",
     "text": [
      "<ipython-input-28-33f37882724c>:1: UserWarning: Boolean Series key will be reindexed to match DataFrame index.\n",
      "  sns.lmplot(data=sw[~out1][~out2], x='height', y='mass') #hue=gender로 나타내서도 살펴보기\n"
     ]
    },
    {
     "data": {
      "image/png": "[encoded data removed]",
      "text/plain": [
       "<Figure size 360x360 with 1 Axes>"
      ]
     },
     "metadata": {},
     "output_type": "display_data"
    }
   ],
   "source": [
    "sns.lmplot(data=sw[~out1][~out2], x='height', y='mass') #hue=gender로 나타내서도 살펴보기\n",
    "sns.set_style(style='darkgrid') #어두운 그리드로 배경 지정\n",
    "\n",
    "plt.show()"
   ]
  },
  {
   "cell_type": "markdown",
   "metadata": {
    "id": "js2AqHOMhlfv"
   },
   "source": [
    "## 5. Review"
   ]
  },
  {
   "cell_type": "markdown",
   "metadata": {
    "id": "5gEYjZugh3cn"
   },
   "source": [
    "### 1. Data:  \n",
    "- Data Volume:  957\n",
    "- Missing Values: 105 = 10.97% of the data\n",
    "- No. of Characters:  87\n",
    "- Species:  37 \n",
    "\n",
    "### 2. Gender/Sex ratio?  \n",
    "- Male gender, 80%\n",
    "  \n",
    "### 3. Gender-Height distribution?  \n",
    "- Male > Female > Robot\n",
    "  \n",
    "### 4. Heaviest vs Lightest?\n",
    "- ['Ratts Tyerell']'s weight is 15.0, which is lightest \n",
    "- ['Jabba Desilijic Tiure']'s weight is 1358.0, which is heaviest\n",
    "\n",
    "### 5. Correlation?  \n",
    "- There is correlation between height and weight"
   ]
  }
 ],
 "metadata": {
  "colab": {
   "authorship_tag": "ABX9TyPERGo408dMQnvXFgOSHzSs",
   "collapsed_sections": [],
   "name": "파이썬실습01_Starwars_sol.ipynb",
   "provenance": []
  },
  "kernelspec": {
   "display_name": "Python 3",
   "language": "python",
   "name": "python3"
  },
  "language_info": {
   "codemirror_mode": {
    "name": "ipython",
    "version": 3
   },
   "file_extension": ".py",
   "mimetype": "text/x-python",
   "name": "python",
   "nbconvert_exporter": "python",
   "pygments_lexer": "ipython3",
   "version": "3.8.8"
  }
 },
 "nbformat": 4,
 "nbformat_minor": 1
}
